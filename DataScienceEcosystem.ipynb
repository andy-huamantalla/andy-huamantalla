{
 "cells": [
  {
   "cell_type": "markdown",
   "id": "cbefe72e-0cdb-46ea-8241-766d4698878b",
   "metadata": {},
   "source": [
    "# Data Science Tools and Ecosystem"
   ]
  },
  {
   "cell_type": "markdown",
   "id": "6d872da3-dc2c-4092-b052-70f219f00a5e",
   "metadata": {},
   "source": [
    "In this notebook, Data Science Tools and Ecosystem are summarized."
   ]
  },
  {
   "cell_type": "markdown",
   "id": "83949b7f-8d89-4b1a-a79f-52582c825e41",
   "metadata": {},
   "source": [
    "**Objectives:**\n",
    "- Pyhton\n",
    "- R\n",
    "- SQL"
   ]
  },
  {
   "cell_type": "markdown",
   "id": "23da8691-c0b6-481a-af86-05efe2993301",
   "metadata": {},
   "source": [
    "## Author\n",
    "Andy Huamantalla"
   ]
  },
  {
   "cell_type": "markdown",
   "id": "57a9e02b-8722-4cba-ad00-6c1a75312304",
   "metadata": {},
   "source": [
    "Some of the popular languages that Data Scientists use are:\n",
    "1. Python\n",
    "2. R\n",
    "3. SQL\n",
    "4. Scala\n",
    "5. Julia"
   ]
  },
  {
   "cell_type": "markdown",
   "id": "916fed9d-2323-4415-88b9-280113172900",
   "metadata": {},
   "source": [
    "Some of the commonly used libraries used by Data Scientists include:\n",
    "1. Pandas\n",
    "2. NumPy\n",
    "3. Scikit-learn\n",
    "4. TensorFlow\n",
    "5. Matplotlib"
   ]
  },
  {
   "cell_type": "markdown",
   "id": "f8fd995b-73c9-429f-beb0-d29063e48c39",
   "metadata": {},
   "source": [
    "| **Data Science Tools**             |\n",
    "|------------------------------------|\n",
    "| Jupyter Notebook                   |\n",
    "| RStudio                            |\n",
    "| Apache Zeppelin                    |"
   ]
  },
  {
   "cell_type": "markdown",
   "id": "6869f466-023d-4c45-9b92-7b91e8da7b3d",
   "metadata": {},
   "source": [
    "### Below are a few examples of evaluating arithmetic expressions in Python"
   ]
  },
  {
   "cell_type": "code",
   "execution_count": 4,
   "id": "2bb73046-4fef-47ea-9435-3a5bfbe322e4",
   "metadata": {},
   "outputs": [
    {
     "data": {
      "text/plain": [
       "17"
      ]
     },
     "execution_count": 4,
     "metadata": {},
     "output_type": "execute_result"
    }
   ],
   "source": [
    "# This a simple arithmetic expression to mutiply then add integers\n",
    "(3*4)+5"
   ]
  },
  {
   "cell_type": "code",
   "execution_count": 5,
   "id": "ce10f1b3-4551-447a-b7db-94402b492179",
   "metadata": {},
   "outputs": [
    {
     "data": {
      "text/plain": [
       "3.3333333333333335"
      ]
     },
     "execution_count": 5,
     "metadata": {},
     "output_type": "execute_result"
    }
   ],
   "source": [
    "# This will convert 200 minutes to hours by diving by 60\n",
    "200/60"
   ]
  }
 ],
 "metadata": {
  "kernelspec": {
   "display_name": "Python 3 (ipykernel)",
   "language": "python",
   "name": "python3"
  },
  "language_info": {
   "codemirror_mode": {
    "name": "ipython",
    "version": 3
   },
   "file_extension": ".py",
   "mimetype": "text/x-python",
   "name": "python",
   "nbconvert_exporter": "python",
   "pygments_lexer": "ipython3",
   "version": "3.12.6"
  }
 },
 "nbformat": 4,
 "nbformat_minor": 5
}
